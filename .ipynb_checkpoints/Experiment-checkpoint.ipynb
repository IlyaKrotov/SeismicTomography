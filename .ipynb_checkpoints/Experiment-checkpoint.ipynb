{
 "cells": [
  {
   "cell_type": "code",
   "execution_count": 1,
   "metadata": {},
   "outputs": [],
   "source": [
    "import numpy as np\n",
    "import os\n",
    "import seaborn as sns\n",
    "import torch\n",
    "from torch.utils.data import Dataset, DataLoader\n",
    "from torchvision import transforms, utils\n",
    "import cv2\n",
    "import NMO"
   ]
  },
  {
   "cell_type": "code",
   "execution_count": 2,
   "metadata": {},
   "outputs": [],
   "source": [
    "class SeismicDataset(Dataset):\n",
    "    \"\"\"Seismic dataset.\"\"\"\n",
    "\n",
    "    def __init__(self, seismo_dir, velocity_dir, sparsity=1, transform=None):\n",
    "        \"\"\"\n",
    "        Args:\n",
    "            seismo_dir (string): Directory with all the seismograms.\n",
    "            velocity_dir (string): Directory with all the c1 velocity models.\n",
    "            transform (callable, optional): Optional transform to be applied on a sample.\n",
    "        \"\"\"\n",
    "        \n",
    "        self.seismo_dir = seismo_dir\n",
    "        self.velocity_dir = velocity_dir\n",
    "        self.transform = transform\n",
    "        self.sparsity = sparsity\n",
    "        \n",
    "        self.seismo_filenames = os.listdir(seismo_dir)\n",
    "        self.velocity_filenames = os.listdir(velocity_dir)\n",
    "\n",
    "    def __len__(self):\n",
    "        return len(os.listdir(self.seismo_dir))\n",
    "\n",
    "    def __getitem__(self, idx):\n",
    "        seismogram = np.loadtxt(self.seismo_dir + seismo_filenames[idx])[:, 1::2]\n",
    "        velocity = np.fromfile(self.velocity_dir + seismo_filenames[idx], dtype='f')\n",
    "        \n",
    "        sample = {'seismogram': seismogram[::self.sparsity, ::self.sparsity].astype(np.float32), \n",
    "                  'velocity': velocity.reshape(250, 500)[::self.sparsity, ::self.sparsity].astype(np.float32)}\n",
    "\n",
    "        if self.transform:\n",
    "            sample = self.transform(sample)\n",
    "            \n",
    "        return sample"
   ]
  },
  {
   "cell_type": "code",
   "execution_count": 3,
   "metadata": {},
   "outputs": [],
   "source": [
    "class NormalMoveout(object):\n",
    "    \"\"\"Do normal moveout for seismogram.\"\"\"\n",
    "\n",
    "    def __init__(self, offsets, velocities, dt):\n",
    "        self.offsets = offsets\n",
    "        self.velocities = velocities\n",
    "        self.dt = dt\n",
    "\n",
    "    def __call__(self, sample):\n",
    "        seismogram = sample['seismogram']\n",
    "        corrected_seismogram = NMO.nmo_correction(seismogram, dt, offsets, velocities)\n",
    "\n",
    "        return {'seismogram': corrected_seismogram, 'velocity': sample['velocity']}\n",
    "    \n",
    "class ToTensor(object):\n",
    "    \"\"\"Convert seismogram to tensor.\"\"\"\n",
    "\n",
    "    def __call__(self, sample):\n",
    "        seismogram = sample['seismogram']\n",
    "        tensor_seismogram = torch.from_numpy(seismogram)\n",
    "\n",
    "        return {'seismogram': tensor_seismogram, 'velocity': sample['velocity']}"
   ]
  },
  {
   "cell_type": "code",
   "execution_count": 4,
   "metadata": {},
   "outputs": [],
   "source": [
    "dt = 0.001\n",
    "\n",
    "offsets = []\n",
    "for i in range(50, 2050, 10):\n",
    "    offsets.append(np.absolute(1250 - i))\n",
    "    \n",
    "velocities = []\n",
    "for i in range(2000):\n",
    "    velocities.append(1500)\n",
    "\n",
    "nmo_transform = NormalMoveout(offsets=offsets, velocities=velocities, dt=dt)\n",
    "dataset = SeismicDataset(seismo_dir='./train/raw/', \n",
    "                         velocity_dir='./train/outputs/', \n",
    "                         transform=transforms.Compose([ToTensor()]))"
   ]
  },
  {
   "cell_type": "code",
   "execution_count": null,
   "metadata": {},
   "outputs": [],
   "source": []
  },
  {
   "cell_type": "code",
   "execution_count": 5,
   "metadata": {},
   "outputs": [],
   "source": [
    "batch = dataset[1]"
   ]
  },
  {
   "cell_type": "code",
   "execution_count": 6,
   "metadata": {},
   "outputs": [
    {
     "data": {
      "text/plain": [
       "{'seismogram': tensor([[ 0.0000,  0.0000,  0.0000,  ...,  0.0000,  0.0000,  0.0000],\n",
       "         [ 0.0000,  0.0000,  0.0000,  ...,  0.0000,  0.0000,  0.0000],\n",
       "         [ 0.0000,  0.0000,  0.0000,  ...,  0.0000,  0.0000,  0.0000],\n",
       "         ...,\n",
       "         [ 0.0000,  0.0000,  0.0000,  ...,  0.0000, -0.0000, -0.0000],\n",
       "         [ 0.0000,  0.0000,  0.0000,  ...,  0.0000, -0.0000, -0.0000],\n",
       "         [ 0.0000,  0.0000,  0.0000,  ...,  0.0000, -0.0000, -0.0000]]),\n",
       " 'velocity': array([[1500., 1500., 1500., ..., 1500., 1500., 1500.],\n",
       "        [1500., 1500., 1500., ..., 1500., 1500., 1500.],\n",
       "        [1500., 1500., 1500., ..., 1500., 1500., 1500.],\n",
       "        ...,\n",
       "        [2500., 2500., 2500., ..., 2500., 2500., 2500.],\n",
       "        [2500., 2500., 2500., ..., 2500., 2500., 2500.],\n",
       "        [2500., 2500., 2500., ..., 2500., 2500., 2500.]], dtype=float32)}"
      ]
     },
     "execution_count": 6,
     "metadata": {},
     "output_type": "execute_result"
    }
   ],
   "source": [
    "batch"
   ]
  },
  {
   "cell_type": "code",
   "execution_count": 7,
   "metadata": {},
   "outputs": [
    {
     "data": {
      "text/plain": [
       "(torch.Size([2000, 200]), (250, 500))"
      ]
     },
     "execution_count": 7,
     "metadata": {},
     "output_type": "execute_result"
    }
   ],
   "source": [
    "batch['seismogram'].shape, batch['velocity'].shape"
   ]
  },
  {
   "cell_type": "code",
   "execution_count": 8,
   "metadata": {},
   "outputs": [],
   "source": [
    "from torch import nn"
   ]
  },
  {
   "cell_type": "code",
   "execution_count": 33,
   "metadata": {},
   "outputs": [],
   "source": [
    "import torchvision\n",
    "\n",
    "batch_size = 8\n",
    "\n",
    "# train_dataset = SeismicDataset(seismo_dir='./train/raw/', \n",
    "#                          velocity_dir='./train/outputs/', \n",
    "#                          transform=transforms.Compose([torchvision.transforms.Normalize(0.0, 1.0), ToTensor()]))\n",
    "# val_dataset = SeismicDataset(seismo_dir='./val/raw/', \n",
    "#                          velocity_dir='./val/outputs/', \n",
    "#                          transform=transforms.Compose([torchvision.transforms.Normalize(0.0, 1.0), ToTensor()]))\n",
    "\n",
    "train_dataset = SeismicDataset(seismo_dir='./train/raw/', \n",
    "                         velocity_dir='./train/outputs/', \n",
    "                         transform=transforms.Compose([ToTensor()]))\n",
    "val_dataset = SeismicDataset(seismo_dir='./val/raw/', \n",
    "                         velocity_dir='./val/outputs/', \n",
    "                         transform=transforms.Compose([ToTensor()]))\n",
    "\n",
    "train_loader = DataLoader(train_dataset, batch_size=batch_size, num_workers=8, shuffle=True)\n",
    "val_loader = DataLoader(val_dataset, batch_size=batch_size, num_workers=8, shuffle=False)"
   ]
  },
  {
   "cell_type": "code",
   "execution_count": 34,
   "metadata": {},
   "outputs": [],
   "source": [
    "import os\n",
    "from tqdm import tqdm\n",
    "import torch\n",
    "\n",
    "from torch.utils.data import DataLoader\n",
    "\n",
    "from tensorboardX import SummaryWriter\n",
    "\n",
    "use_gpu = torch.cuda.is_available()\n",
    "device = torch.device(\"cuda\" if use_gpu else \"cpu\")"
   ]
  },
  {
   "cell_type": "code",
   "execution_count": 35,
   "metadata": {},
   "outputs": [],
   "source": [
    "class AverageMeter(object):\n",
    "    def __init__(self):\n",
    "        self.reset()\n",
    "\n",
    "    def reset(self):\n",
    "        self.val = 0\n",
    "        self.avg = 0\n",
    "        self.sum = 0\n",
    "        self.count = 0\n",
    "\n",
    "    def update(self, val, n=1):\n",
    "        self.val = val\n",
    "        self.sum += val * n\n",
    "        self.count += n\n",
    "        self.avg = self.sum / self.count"
   ]
  },
  {
   "cell_type": "code",
   "execution_count": 36,
   "metadata": {},
   "outputs": [],
   "source": [
    "def train(model, loader, optimizer, criterion, writer=None, global_step=None, name=None):\n",
    "    model.train()\n",
    "    train_losses = AverageMeter()\n",
    "    for idx, batch in enumerate((loader)):\n",
    "        x = torch.FloatTensor(batch['seismogram']).to(device)\n",
    "        y = torch.FloatTensor(batch['velocity']).to(device)\n",
    "        \n",
    "        y_pred = model(x)\n",
    "        \n",
    "        loss = criterion(y, y_pred)\n",
    "        \n",
    "        optimizer.zero_grad()\n",
    "        loss.backward()\n",
    "        optimizer.step()\n",
    "        \n",
    "        train_losses.update(loss.item(), x.size(0))\n",
    "\n",
    "        if writer is not None:\n",
    "            writer.add_scalar(f\"{name}/train_loss.avg\", train_losses.avg, global_step=global_step + idx)\n",
    "            \n",
    "    return train_losses.avg"
   ]
  },
  {
   "cell_type": "code",
   "execution_count": 37,
   "metadata": {},
   "outputs": [],
   "source": [
    "def validate(model, loader, criterion, writer=None, global_step=None, name=None):\n",
    "    model.eval()\n",
    "    validate_losses = AverageMeter()\n",
    "    for idx, batch in enumerate((loader)):\n",
    "        x = torch.FloatTensor(batch['seismogram']).to(device)\n",
    "        y = torch.FloatTensor(batch['velocity']).to(device)\n",
    "        \n",
    "        y_pred = model(x)\n",
    "        \n",
    "        loss = criterion(y, y_pred)\n",
    "        validate_losses.update(loss.item(), x.size(0))\n",
    "\n",
    "        if writer is not None:\n",
    "            writer.add_scalar(f\"{name}/val_loss.avg\", validate_losses.avg, global_step=global_step + idx)\n",
    "    return validate_losses.avg"
   ]
  },
  {
   "cell_type": "code",
   "execution_count": 38,
   "metadata": {},
   "outputs": [],
   "source": [
    "import torch.nn as nn\n",
    "\n",
    "class AccelerationPredictor(nn.Module):\n",
    "    def __init__(self):\n",
    "        super(AccelerationPredictor, self).__init__()\n",
    "\n",
    "        self.conv = nn.Sequential(\n",
    "            nn.BatchNorm1d(2000),\n",
    "            nn.Conv1d(2000, 1000, 10),\n",
    "            nn.BatchNorm1d(1000),\n",
    "            nn.ReLU(),\n",
    "            nn.Conv1d(1000, 250, 10),\n",
    "            nn.BatchNorm1d(250),\n",
    "            nn.ReLU(),\n",
    "        )\n",
    "        \n",
    "        self.linear = nn.Linear(182, 500)\n",
    "\n",
    "    def forward(self, x):\n",
    "        y = self.conv(x)\n",
    "        y = self.linear(y)\n",
    "        return y"
   ]
  },
  {
   "cell_type": "code",
   "execution_count": 39,
   "metadata": {},
   "outputs": [
    {
     "data": {
      "text/plain": [
       "MSELoss()"
      ]
     },
     "execution_count": 39,
     "metadata": {},
     "output_type": "execute_result"
    }
   ],
   "source": [
    "model = AccelerationPredictor()\n",
    "optimizer = torch.optim.Adam(model.parameters(), lr=1e-3)\n",
    "criterion = nn.MSELoss()\n",
    "model = model.to(device)\n",
    "criterion.to(device)"
   ]
  },
  {
   "cell_type": "code",
   "execution_count": 40,
   "metadata": {},
   "outputs": [
    {
     "data": {
      "text/plain": [
       "torch.Size([1, 250, 500])"
      ]
     },
     "execution_count": 40,
     "metadata": {},
     "output_type": "execute_result"
    }
   ],
   "source": [
    "model(batch['seismogram'][None]).shape"
   ]
  },
  {
   "cell_type": "code",
   "execution_count": 41,
   "metadata": {},
   "outputs": [],
   "source": [
    "experiment_dir_name = 'second_test'\n",
    "\n",
    "writer = SummaryWriter(log_dir=os.path.join(experiment_dir_name, 'logs'))\n",
    "os.makedirs(experiment_dir_name, exist_ok=True)"
   ]
  },
  {
   "cell_type": "code",
   "execution_count": 42,
   "metadata": {},
   "outputs": [
    {
     "name": "stderr",
     "output_type": "stream",
     "text": [
      "\n",
      "  0%|          | 0/100 [00:00<?, ?it/s]\u001b[A\n",
      "\n",
      "\n",
      "\n",
      "\n",
      "\n",
      "\n",
      "\n",
      "\n",
      "\n",
      "\n",
      "\n",
      "\n",
      "\n",
      "\n",
      "\n",
      "\n",
      "\u001b[A"
     ]
    },
    {
     "ename": "OSError",
     "evalue": "Traceback (most recent call last):\n  File \"/Library/Frameworks/Python.framework/Versions/3.6/lib/python3.6/site-packages/torch/utils/data/dataloader.py\", line 106, in _worker_loop\n    samples = collate_fn([dataset[i] for i in batch_indices])\n  File \"/Library/Frameworks/Python.framework/Versions/3.6/lib/python3.6/site-packages/torch/utils/data/dataloader.py\", line 106, in <listcomp>\n    samples = collate_fn([dataset[i] for i in batch_indices])\n  File \"<ipython-input-2-2bdc25a84c15>\", line 22, in __getitem__\n    seismogram = np.loadtxt(self.seismo_dir + str(idx) + '.txt')[:, 1::2]\n  File \"/Users/ilyakrotov/Library/Python/3.6/lib/python/site-packages/numpy/lib/npyio.py\", line 955, in loadtxt\n    fh = np.lib._datasource.open(fname, 'rt', encoding=encoding)\n  File \"/Users/ilyakrotov/Library/Python/3.6/lib/python/site-packages/numpy/lib/_datasource.py\", line 266, in open\n    return ds.open(path, mode, encoding=encoding, newline=newline)\n  File \"/Users/ilyakrotov/Library/Python/3.6/lib/python/site-packages/numpy/lib/_datasource.py\", line 624, in open\n    raise IOError(\"%s not found.\" % path)\nOSError: ./val/raw/1.txt not found.\n",
     "output_type": "error",
     "traceback": [
      "\u001b[0;31m---------------------------------------------------------------------------\u001b[0m",
      "\u001b[0;31mOSError\u001b[0m                                   Traceback (most recent call last)",
      "\u001b[0;32m<ipython-input-42-d672800032bd>\u001b[0m in \u001b[0;36m<module>\u001b[0;34m()\u001b[0m\n\u001b[1;32m      7\u001b[0m     val_loss = validate(model=model, loader=val_loader, criterion=criterion,\n\u001b[1;32m      8\u001b[0m                         \u001b[0mwriter\u001b[0m\u001b[0;34m=\u001b[0m\u001b[0mwriter\u001b[0m\u001b[0;34m,\u001b[0m \u001b[0mglobal_step\u001b[0m\u001b[0;34m=\u001b[0m\u001b[0mlen\u001b[0m\u001b[0;34m(\u001b[0m\u001b[0mtrain_loader\u001b[0m\u001b[0;34m.\u001b[0m\u001b[0mdataset\u001b[0m\u001b[0;34m)\u001b[0m \u001b[0;34m*\u001b[0m \u001b[0mepoch\u001b[0m\u001b[0;34m,\u001b[0m\u001b[0;34m\u001b[0m\u001b[0m\n\u001b[0;32m----> 9\u001b[0;31m                         name=f\"{experiment_dir_name}_by_batch\")\n\u001b[0m\u001b[1;32m     10\u001b[0m \u001b[0;34m\u001b[0m\u001b[0m\n\u001b[1;32m     11\u001b[0m     \u001b[0mmodel_name\u001b[0m \u001b[0;34m=\u001b[0m \u001b[0;34mf\"emd_loss_epoch_{epoch}_train_{train_loss}_{val_loss}.pth\"\u001b[0m\u001b[0;34m\u001b[0m\u001b[0m\n",
      "\u001b[0;32m<ipython-input-37-f187fd3b62eb>\u001b[0m in \u001b[0;36mvalidate\u001b[0;34m(model, loader, criterion, writer, global_step, name)\u001b[0m\n\u001b[1;32m      2\u001b[0m     \u001b[0mmodel\u001b[0m\u001b[0;34m.\u001b[0m\u001b[0meval\u001b[0m\u001b[0;34m(\u001b[0m\u001b[0;34m)\u001b[0m\u001b[0;34m\u001b[0m\u001b[0m\n\u001b[1;32m      3\u001b[0m     \u001b[0mvalidate_losses\u001b[0m \u001b[0;34m=\u001b[0m \u001b[0mAverageMeter\u001b[0m\u001b[0;34m(\u001b[0m\u001b[0;34m)\u001b[0m\u001b[0;34m\u001b[0m\u001b[0m\n\u001b[0;32m----> 4\u001b[0;31m     \u001b[0;32mfor\u001b[0m \u001b[0midx\u001b[0m\u001b[0;34m,\u001b[0m \u001b[0mbatch\u001b[0m \u001b[0;32min\u001b[0m \u001b[0menumerate\u001b[0m\u001b[0;34m(\u001b[0m\u001b[0;34m(\u001b[0m\u001b[0mloader\u001b[0m\u001b[0;34m)\u001b[0m\u001b[0;34m)\u001b[0m\u001b[0;34m:\u001b[0m\u001b[0;34m\u001b[0m\u001b[0m\n\u001b[0m\u001b[1;32m      5\u001b[0m         \u001b[0mx\u001b[0m \u001b[0;34m=\u001b[0m \u001b[0mtorch\u001b[0m\u001b[0;34m.\u001b[0m\u001b[0mFloatTensor\u001b[0m\u001b[0;34m(\u001b[0m\u001b[0mbatch\u001b[0m\u001b[0;34m[\u001b[0m\u001b[0;34m'seismogram'\u001b[0m\u001b[0;34m]\u001b[0m\u001b[0;34m)\u001b[0m\u001b[0;34m.\u001b[0m\u001b[0mto\u001b[0m\u001b[0;34m(\u001b[0m\u001b[0mdevice\u001b[0m\u001b[0;34m)\u001b[0m\u001b[0;34m\u001b[0m\u001b[0m\n\u001b[1;32m      6\u001b[0m         \u001b[0my\u001b[0m \u001b[0;34m=\u001b[0m \u001b[0mtorch\u001b[0m\u001b[0;34m.\u001b[0m\u001b[0mFloatTensor\u001b[0m\u001b[0;34m(\u001b[0m\u001b[0mbatch\u001b[0m\u001b[0;34m[\u001b[0m\u001b[0;34m'velocity'\u001b[0m\u001b[0;34m]\u001b[0m\u001b[0;34m)\u001b[0m\u001b[0;34m.\u001b[0m\u001b[0mto\u001b[0m\u001b[0;34m(\u001b[0m\u001b[0mdevice\u001b[0m\u001b[0;34m)\u001b[0m\u001b[0;34m\u001b[0m\u001b[0m\n",
      "\u001b[0;32m/Library/Frameworks/Python.framework/Versions/3.6/lib/python3.6/site-packages/torch/utils/data/dataloader.py\u001b[0m in \u001b[0;36m__next__\u001b[0;34m(self)\u001b[0m\n\u001b[1;32m    334\u001b[0m                 \u001b[0mself\u001b[0m\u001b[0;34m.\u001b[0m\u001b[0mreorder_dict\u001b[0m\u001b[0;34m[\u001b[0m\u001b[0midx\u001b[0m\u001b[0;34m]\u001b[0m \u001b[0;34m=\u001b[0m \u001b[0mbatch\u001b[0m\u001b[0;34m\u001b[0m\u001b[0m\n\u001b[1;32m    335\u001b[0m                 \u001b[0;32mcontinue\u001b[0m\u001b[0;34m\u001b[0m\u001b[0m\n\u001b[0;32m--> 336\u001b[0;31m             \u001b[0;32mreturn\u001b[0m \u001b[0mself\u001b[0m\u001b[0;34m.\u001b[0m\u001b[0m_process_next_batch\u001b[0m\u001b[0;34m(\u001b[0m\u001b[0mbatch\u001b[0m\u001b[0;34m)\u001b[0m\u001b[0;34m\u001b[0m\u001b[0m\n\u001b[0m\u001b[1;32m    337\u001b[0m \u001b[0;34m\u001b[0m\u001b[0m\n\u001b[1;32m    338\u001b[0m     \u001b[0mnext\u001b[0m \u001b[0;34m=\u001b[0m \u001b[0m__next__\u001b[0m  \u001b[0;31m# Python 2 compatibility\u001b[0m\u001b[0;34m\u001b[0m\u001b[0m\n",
      "\u001b[0;32m/Library/Frameworks/Python.framework/Versions/3.6/lib/python3.6/site-packages/torch/utils/data/dataloader.py\u001b[0m in \u001b[0;36m_process_next_batch\u001b[0;34m(self, batch)\u001b[0m\n\u001b[1;32m    355\u001b[0m         \u001b[0mself\u001b[0m\u001b[0;34m.\u001b[0m\u001b[0m_put_indices\u001b[0m\u001b[0;34m(\u001b[0m\u001b[0;34m)\u001b[0m\u001b[0;34m\u001b[0m\u001b[0m\n\u001b[1;32m    356\u001b[0m         \u001b[0;32mif\u001b[0m \u001b[0misinstance\u001b[0m\u001b[0;34m(\u001b[0m\u001b[0mbatch\u001b[0m\u001b[0;34m,\u001b[0m \u001b[0mExceptionWrapper\u001b[0m\u001b[0;34m)\u001b[0m\u001b[0;34m:\u001b[0m\u001b[0;34m\u001b[0m\u001b[0m\n\u001b[0;32m--> 357\u001b[0;31m             \u001b[0;32mraise\u001b[0m \u001b[0mbatch\u001b[0m\u001b[0;34m.\u001b[0m\u001b[0mexc_type\u001b[0m\u001b[0;34m(\u001b[0m\u001b[0mbatch\u001b[0m\u001b[0;34m.\u001b[0m\u001b[0mexc_msg\u001b[0m\u001b[0;34m)\u001b[0m\u001b[0;34m\u001b[0m\u001b[0m\n\u001b[0m\u001b[1;32m    358\u001b[0m         \u001b[0;32mreturn\u001b[0m \u001b[0mbatch\u001b[0m\u001b[0;34m\u001b[0m\u001b[0m\n\u001b[1;32m    359\u001b[0m \u001b[0;34m\u001b[0m\u001b[0m\n",
      "\u001b[0;31mOSError\u001b[0m: Traceback (most recent call last):\n  File \"/Library/Frameworks/Python.framework/Versions/3.6/lib/python3.6/site-packages/torch/utils/data/dataloader.py\", line 106, in _worker_loop\n    samples = collate_fn([dataset[i] for i in batch_indices])\n  File \"/Library/Frameworks/Python.framework/Versions/3.6/lib/python3.6/site-packages/torch/utils/data/dataloader.py\", line 106, in <listcomp>\n    samples = collate_fn([dataset[i] for i in batch_indices])\n  File \"<ipython-input-2-2bdc25a84c15>\", line 22, in __getitem__\n    seismogram = np.loadtxt(self.seismo_dir + str(idx) + '.txt')[:, 1::2]\n  File \"/Users/ilyakrotov/Library/Python/3.6/lib/python/site-packages/numpy/lib/npyio.py\", line 955, in loadtxt\n    fh = np.lib._datasource.open(fname, 'rt', encoding=encoding)\n  File \"/Users/ilyakrotov/Library/Python/3.6/lib/python/site-packages/numpy/lib/_datasource.py\", line 266, in open\n    return ds.open(path, mode, encoding=encoding, newline=newline)\n  File \"/Users/ilyakrotov/Library/Python/3.6/lib/python/site-packages/numpy/lib/_datasource.py\", line 624, in open\n    raise IOError(\"%s not found.\" % path)\nOSError: ./val/raw/1.txt not found.\n"
     ]
    }
   ],
   "source": [
    "num_epoch = 100\n",
    "\n",
    "for epoch in tqdm(range(num_epoch)):\n",
    "    train_loss = train(model=model, loader=train_loader, optimizer=optimizer, criterion=criterion,\n",
    "                       writer=writer, global_step=len(train_loader.dataset) * epoch,\n",
    "                       name=f\"{experiment_dir_name}_by_batch\")\n",
    "    val_loss = validate(model=model, loader=val_loader, criterion=criterion,\n",
    "                        writer=writer, global_step=len(train_loader.dataset) * epoch,\n",
    "                        name=f\"{experiment_dir_name}_by_batch\")\n",
    "\n",
    "    model_name = f\"emd_loss_epoch_{epoch}_train_{train_loss}_{val_loss}.pth\"\n",
    "    torch.save(model.state_dict(), os.path.join(experiment_dir_name, model_name))\n",
    "    writer.add_scalar(f\"{experiment_dir_name}_by_epoch/train_loss\", train_loss, global_step=epoch)\n",
    "    writer.add_scalar(f\"{experiment_dir_name}_by_epoch/val_loss\", val_loss, global_step=epoch)\n",
    "\n",
    "writer.export_scalars_to_json(os.path.join(experiment_dir_name, 'all_scalars.json'))\n",
    "writer.close()"
   ]
  },
  {
   "cell_type": "code",
   "execution_count": null,
   "metadata": {},
   "outputs": [],
   "source": []
  }
 ],
 "metadata": {
  "kernelspec": {
   "display_name": "Python 3",
   "language": "python",
   "name": "python3"
  },
  "language_info": {
   "codemirror_mode": {
    "name": "ipython",
    "version": 3
   },
   "file_extension": ".py",
   "mimetype": "text/x-python",
   "name": "python",
   "nbconvert_exporter": "python",
   "pygments_lexer": "ipython3",
   "version": "3.7.2"
  }
 },
 "nbformat": 4,
 "nbformat_minor": 2
}
