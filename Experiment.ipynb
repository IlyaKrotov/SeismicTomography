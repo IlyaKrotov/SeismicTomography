{
 "cells": [
  {
   "cell_type": "code",
   "execution_count": 25,
   "metadata": {},
   "outputs": [],
   "source": [
    "import numpy as np\n",
    "import os\n",
    "import seaborn as sns\n",
    "import torch\n",
    "from torch.utils.data import Dataset, DataLoader\n",
    "from torchvision import transforms, utils\n",
    "import cv2\n",
    "import NMO"
   ]
  },
  {
   "cell_type": "code",
   "execution_count": 35,
   "metadata": {},
   "outputs": [],
   "source": [
    "class SeismicDataset(Dataset):\n",
    "    \"\"\"Seismic dataset.\"\"\"\n",
    "\n",
    "    def __init__(self, seismo_dir, velocity_dir, transform=None):\n",
    "        \"\"\"\n",
    "        Args:\n",
    "            seismo_dir (string): Directory with all the seismograms.\n",
    "            velocity_dir (string): Directory with all the c1 velocity models.\n",
    "            transform (callable, optional): Optional transform to be applied on a sample.\n",
    "        \"\"\"\n",
    "        \n",
    "        self.seismo_dir = seismo_dir\n",
    "        self.velocity_dir = velocity_dir\n",
    "        self.transform = transform\n",
    "\n",
    "    def __len__(self):\n",
    "        return len(os.listdir(root_dir + 'inputs/'))\n",
    "\n",
    "    def __getitem__(self, idx):\n",
    "        seismogram = np.loadtxt(self.seismo_dir + str(idx) + '.txt')[:, 1::2]\n",
    "        velocity = np.fromfile(self.velocity_dir + str(idx) + '.bin', dtype='f')\n",
    "        \n",
    "        sample = {'seismogram': seismogram, 'velocity': velocity.reshape(250, 500)}\n",
    "\n",
    "        if self.transform:\n",
    "            sample = self.transform(sample)\n",
    "            \n",
    "        return sample"
   ]
  },
  {
   "cell_type": "code",
   "execution_count": 36,
   "metadata": {},
   "outputs": [],
   "source": [
    "class NormalMoveout(object):\n",
    "    \"\"\"Do normal moveout for seismogram.\"\"\"\n",
    "\n",
    "    def __init__(self, offsets, velocities, dt):\n",
    "        self.offsets = offsets\n",
    "        self.velocities = velocities\n",
    "        self.dt = dt\n",
    "\n",
    "    def __call__(self, sample):\n",
    "        seismogram = sample['seismogram']\n",
    "        corrected_seismogram = NMO.nmo_correction(seismogram, dt, offsets, velocities)\n",
    "\n",
    "        return {'seismogram': corrected_seismogram, 'velocity': sample['velocity']}\n",
    "    \n",
    "class ToTensor(object):\n",
    "    \"\"\"Convert seismogram to tensor.\"\"\"\n",
    "\n",
    "    def __call__(self, sample):\n",
    "        seismogram = sample['seismogram']\n",
    "        tensor_seismogram = torch.from_numpy(seismogram)\n",
    "\n",
    "        return {'seismogram': tensor_seismogram, 'velocity': sample['velocity']}"
   ]
  },
  {
   "cell_type": "code",
   "execution_count": 37,
   "metadata": {},
   "outputs": [],
   "source": [
    "dt = 0.001\n",
    "\n",
    "offsets = []\n",
    "for i in range(50, 2050, 10):\n",
    "    offsets.append(np.absolute(1250 - i))\n",
    "    \n",
    "velocities = []\n",
    "for i in range(2000):\n",
    "    velocities.append(1500)\n",
    "\n",
    "nmo_transform = NormalMoveout(offsets=offsets, velocities=velocities, dt=dt)\n",
    "dataset = SeismicDataset(seismo_dir='./train/raw/', \n",
    "                         velocity_dir='./train/outputs/', \n",
    "                         transform=transforms.Compose([ToTensor()]))"
   ]
  },
  {
   "cell_type": "code",
   "execution_count": null,
   "metadata": {},
   "outputs": [],
   "source": []
  },
  {
   "cell_type": "code",
   "execution_count": 38,
   "metadata": {},
   "outputs": [],
   "source": [
    "batch = dataset[1]"
   ]
  },
  {
   "cell_type": "code",
   "execution_count": 39,
   "metadata": {},
   "outputs": [
    {
     "data": {
      "text/plain": [
       "{'seismogram': tensor([[ 0.0000e+00,  0.0000e+00,  0.0000e+00,  ...,  0.0000e+00,\n",
       "           0.0000e+00,  0.0000e+00],\n",
       "         [ 0.0000e+00,  0.0000e+00,  0.0000e+00,  ...,  0.0000e+00,\n",
       "           0.0000e+00,  0.0000e+00],\n",
       "         [ 0.0000e+00,  0.0000e+00,  0.0000e+00,  ...,  0.0000e+00,\n",
       "           0.0000e+00,  0.0000e+00],\n",
       "         ...,\n",
       "         [ 2.3626e-15,  1.6034e-15,  2.4988e-16,  ..., -7.3021e-15,\n",
       "          -1.4063e-14, -1.5200e-14],\n",
       "         [ 2.3627e-15,  1.4740e-15,  3.6686e-17,  ..., -8.4461e-15,\n",
       "          -1.4462e-14, -1.4571e-14],\n",
       "         [ 2.3272e-15,  1.3144e-15, -1.9387e-16,  ..., -9.4914e-15,\n",
       "          -1.4796e-14, -1.3927e-14]], dtype=torch.float64),\n",
       " 'velocity': array([[1500., 1500., 1500., ..., 1500., 1500., 1500.],\n",
       "        [1500., 1500., 1500., ..., 1500., 1500., 1500.],\n",
       "        [1500., 1500., 1500., ..., 1500., 1500., 1500.],\n",
       "        ...,\n",
       "        [2500., 2500., 2500., ..., 2500., 2500., 2500.],\n",
       "        [2500., 2500., 2500., ..., 2500., 2500., 2500.],\n",
       "        [2500., 2500., 2500., ..., 2500., 2500., 2500.]], dtype=float32)}"
      ]
     },
     "execution_count": 39,
     "metadata": {},
     "output_type": "execute_result"
    }
   ],
   "source": [
    "batch"
   ]
  },
  {
   "cell_type": "code",
   "execution_count": 40,
   "metadata": {},
   "outputs": [
    {
     "data": {
      "text/plain": [
       "torch.Size([2000, 200])"
      ]
     },
     "execution_count": 40,
     "metadata": {},
     "output_type": "execute_result"
    }
   ],
   "source": [
    "batch['seismogram'].shape"
   ]
  },
  {
   "cell_type": "code",
   "execution_count": 41,
   "metadata": {},
   "outputs": [
    {
     "data": {
      "text/plain": [
       "(250, 500)"
      ]
     },
     "execution_count": 41,
     "metadata": {},
     "output_type": "execute_result"
    }
   ],
   "source": [
    "batch['velocity'].shape"
   ]
  },
  {
   "cell_type": "code",
   "execution_count": 42,
   "metadata": {},
   "outputs": [],
   "source": [
    "import torch.nn as nn"
   ]
  },
  {
   "cell_type": "code",
   "execution_count": null,
   "metadata": {},
   "outputs": [],
   "source": [
    "model = nn.Sequential(\n",
    "    nn.Linear()\n",
    ")"
   ]
  }
 ],
 "metadata": {
  "kernelspec": {
   "display_name": "Python 3",
   "language": "python",
   "name": "python3"
  },
  "language_info": {
   "codemirror_mode": {
    "name": "ipython",
    "version": 3
   },
   "file_extension": ".py",
   "mimetype": "text/x-python",
   "name": "python",
   "nbconvert_exporter": "python",
   "pygments_lexer": "ipython3",
   "version": "3.7.2"
  }
 },
 "nbformat": 4,
 "nbformat_minor": 2
}
